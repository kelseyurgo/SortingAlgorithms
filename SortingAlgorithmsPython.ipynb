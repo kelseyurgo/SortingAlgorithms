{
 "cells": [
  {
   "cell_type": "markdown",
   "metadata": {},
   "source": [
    " # Sorting and Plotting"
   ]
  },
  {
   "cell_type": "markdown",
   "metadata": {},
   "source": [
    "# Sorting"
   ]
  },
  {
   "cell_type": "markdown",
   "metadata": {},
   "source": [
    "## Algorithms for Sorting"
   ]
  },
  {
   "cell_type": "markdown",
   "metadata": {},
   "source": [
    "We discuss three algorithms in class: Bubble Sort, Insertion Sort, and Merge Sort.\n",
    "\n",
    "Now, practice these sorting algorithms yourself by reading and running the code for each algorithm below."
   ]
  },
  {
   "cell_type": "code",
   "execution_count": null,
   "metadata": {},
   "outputs": [],
   "source": [
    "import random\n",
    "\n",
    "def make_array(length, low, high):\n",
    "    list = []\n",
    "    for i in range(length):\n",
    "        list.append(random.randint(low, high))\n",
    "    return list"
   ]
  },
  {
   "cell_type": "markdown",
   "metadata": {},
   "source": [
    "## Swapping two variables"
   ]
  },
  {
   "cell_type": "markdown",
   "metadata": {},
   "source": [
    "For most sorting variables, we are going to want to swap values around a lot. If we have two values we want to switch positions in a list, or in variables, we have a problem.\n",
    "\n",
    "Say we have values in variables `x` and `y`; if we want to swap them, we might think the first thing to do is to set `x = y` then set `y = x`... but then `x` has the value that `y` had, so both will have the same value... oops.\n",
    "\n",
    "How can we solve that?"
   ]
  },
  {
   "cell_type": "code",
   "execution_count": null,
   "metadata": {},
   "outputs": [],
   "source": [
    "x = 1\n",
    "y = 2\n",
    "print(\"Before: x is {} and y is {}\".format(x, y)) # notice the use of .format()\n",
    "\n",
    "x = y\n",
    "y = x\n",
    "print(\"After: x is {} and y is {}\".format(x, y))"
   ]
  },
  {
   "cell_type": "code",
   "execution_count": null,
   "metadata": {},
   "outputs": [],
   "source": []
  },
  {
   "cell_type": "markdown",
   "metadata": {},
   "source": [
    "## Double Trouble Sort"
   ]
  },
  {
   "cell_type": "code",
   "execution_count": null,
   "metadata": {},
   "outputs": [],
   "source": [
    "def double_trouble(array):\n",
    "    \"\"\"\n",
    "    Compare all combinations, swapping if out of order.\n",
    "    \"\"\"\n",
    "    count = 0\n",
    "    for i in range(len(array) - 1):\n",
    "        for j in range(i, len(array)):\n",
    "            count += 1\n",
    "            if array[i] > array[j]:\n",
    "                array[i], array[j] = array[j], array[i]\n",
    "    return count"
   ]
  },
  {
   "cell_type": "code",
   "execution_count": null,
   "metadata": {},
   "outputs": [],
   "source": []
  },
  {
   "cell_type": "code",
   "execution_count": null,
   "metadata": {},
   "outputs": [],
   "source": [
    "array = make_array(100, 0, 100)\n",
    "print (array)\n",
    "swaps = double_trouble(array)\n",
    "print (array)\n",
    "print (\"Swaps:\", swaps)"
   ]
  },
  {
   "cell_type": "code",
   "execution_count": null,
   "metadata": {},
   "outputs": [],
   "source": []
  },
  {
   "cell_type": "code",
   "execution_count": null,
   "metadata": {},
   "outputs": [],
   "source": []
  },
  {
   "cell_type": "code",
   "execution_count": null,
   "metadata": {},
   "outputs": [],
   "source": []
  },
  {
   "cell_type": "code",
   "execution_count": null,
   "metadata": {},
   "outputs": [],
   "source": []
  },
  {
   "cell_type": "code",
   "execution_count": null,
   "metadata": {},
   "outputs": [],
   "source": []
  },
  {
   "cell_type": "markdown",
   "metadata": {},
   "source": [
    "## Bubble Sort"
   ]
  },
  {
   "cell_type": "code",
   "execution_count": null,
   "metadata": {},
   "outputs": [],
   "source": [
    "def bubble_sort(array):\n",
    "    \"\"\"\n",
    "    Go through all numbers, compare it with its next. \n",
    "    Swap them if out of order. Repeat until no swaps\n",
    "    have been made.\n",
    "    \"\"\"\n",
    "    swapped = True\n",
    "    count = 0\n",
    "    k = 1\n",
    "    while swapped:\n",
    "        swapped = False\n",
    "        for i in range(0, len(array) - k):\n",
    "            count += 1\n",
    "            if array[i] > array[i + 1]:\n",
    "                array[i], array[i + 1] = array[i + 1], array[i]\n",
    "                swapped = True\n",
    "        k += 1\n",
    "    return count"
   ]
  },
  {
   "cell_type": "code",
   "execution_count": null,
   "metadata": {},
   "outputs": [],
   "source": [
    "array = make_array(1000, 0, 100)\n",
    "#print(array)\n",
    "print(bubble_sort(array))\n",
    "#print(array)"
   ]
  },
  {
   "cell_type": "code",
   "execution_count": null,
   "metadata": {},
   "outputs": [],
   "source": [
    "bubble_sort(array)"
   ]
  },
  {
   "cell_type": "code",
   "execution_count": null,
   "metadata": {},
   "outputs": [],
   "source": []
  },
  {
   "cell_type": "code",
   "execution_count": null,
   "metadata": {},
   "outputs": [],
   "source": []
  },
  {
   "cell_type": "code",
   "execution_count": null,
   "metadata": {},
   "outputs": [],
   "source": []
  },
  {
   "cell_type": "code",
   "execution_count": null,
   "metadata": {},
   "outputs": [],
   "source": []
  },
  {
   "cell_type": "code",
   "execution_count": null,
   "metadata": {},
   "outputs": [],
   "source": []
  },
  {
   "cell_type": "code",
   "execution_count": null,
   "metadata": {},
   "outputs": [],
   "source": []
  },
  {
   "cell_type": "markdown",
   "metadata": {},
   "source": [
    "## Quicksort"
   ]
  },
  {
   "cell_type": "code",
   "execution_count": null,
   "metadata": {},
   "outputs": [],
   "source": [
    "def quicksort(array, start=0, end=None):\n",
    "    \"\"\"\n",
    "    Pick a value (partition), and divide list into two\n",
    "    parts: those less than/greater than. Sort each of\n",
    "    those, and combine.\n",
    "    \"\"\"\n",
    "    if end is None:\n",
    "        end = len(array) - 1\n",
    "    if start < end:\n",
    "        pivot, count = partition(array, start, end)\n",
    "        countl = quicksort(array, start, pivot - 1)\n",
    "        countr = quicksort(array, pivot + 1, end)\n",
    "        return count + countl + countr\n",
    "    else:\n",
    "        return 0\n",
    "\n",
    "def partition(array, start, end):\n",
    "    pivot = array[start]\n",
    "    left = start + 1\n",
    "    right = end\n",
    "    done = False\n",
    "    count = 0\n",
    "    while not done:\n",
    "        while left <= right and array[left] <= pivot:\n",
    "            count += 1\n",
    "            left = left + 1\n",
    "        while array[right] >= pivot and right >= left:\n",
    "            count += 1\n",
    "            right = right - 1\n",
    "        if right < left:\n",
    "            done = True\n",
    "        else:\n",
    "            array[left], array[right] = array[right], array[left]\n",
    "    array[start], array[right] = array[right], array[start]\n",
    "    return right, count"
   ]
  },
  {
   "cell_type": "code",
   "execution_count": null,
   "metadata": {},
   "outputs": [],
   "source": [
    "array = make_array(100, 0, 100)\n",
    "quicksort(array, 0)"
   ]
  },
  {
   "cell_type": "markdown",
   "metadata": {},
   "source": [
    "# Visualizations"
   ]
  },
  {
   "cell_type": "markdown",
   "metadata": {},
   "source": [
    "Practice running the visualizations to better understand how mostly sorted versus completely random arrays complete at different times for Bubble sort, Insertion sort, and Merge sort: http://www.sorting-algorithms.com/\n",
    "\n",
    "What do you notice?\n",
    "\n",
    "Which algorithm(s) benefit from arrays that are mostly sorted?\n",
    "\n",
    "Which algorithm(s) stay largely consistent?\n",
    "\n",
    "Why do you think this is?"
   ]
  }
 ],
 "metadata": {
  "kernelspec": {
   "display_name": "Python 3",
   "language": "python",
   "name": "python3"
  },
  "language_info": {
   "codemirror_mode": {
    "name": "ipython",
    "version": 3
   },
   "file_extension": ".py",
   "mimetype": "text/x-python",
   "name": "python",
   "nbconvert_exporter": "python",
   "pygments_lexer": "ipython3",
   "version": "3.7.3"
  }
 },
 "nbformat": 4,
 "nbformat_minor": 1
}
